{
  "nbformat": 4,
  "nbformat_minor": 0,
  "metadata": {
    "colab": {
      "provenance": []
    },
    "kernelspec": {
      "name": "python3",
      "display_name": "Python 3"
    },
    "language_info": {
      "name": "python"
    }
  },
  "cells": [
    {
      "cell_type": "markdown",
      "source": [
        "Atividade Prática de Funções:\n",
        "\n",
        "1) com parâmetro e com retorno:\n",
        "\n",
        "Você foi encarregado de criar um programa para calcular o valor total de uma compra em um supermercado. Crie uma função chamada calcular_total_compra que receba como parâmetro uma lista de preços dos itens comprados e retorne o valor total a ser pago.\n",
        "\n",
        "No programa principal:\n",
        "\n",
        "Peça ao usuário para informar quantos itens ele comprou.\n",
        "Para cada item, solicite o preço e armazene em uma lista.\n",
        "Chame a função e exiba o valor total da compra.\n",
        "\n",
        "Na saída do programa deverá ser assim:\n",
        "\n",
        "Quantos itens você comprou? 3\n",
        "Digite o preço do item 1: 10.50\n",
        "Digite o preço do item 2: 5.20\n",
        "Digite o preço do item 3: 8.30\n",
        "O valor total da compra é: R$ 24.00"
      ],
      "metadata": {
        "id": "dIlU0d9F09yF"
      }
    },
    {
      "cell_type": "code",
      "execution_count": 12,
      "metadata": {
        "id": "NnTSGgtp08qF"
      },
      "outputs": [],
      "source": [
        "def calcular_total_compra():\n",
        "  qnt = int(input(\"Quantos itens você comprou? \"))\n",
        "  total = 0\n",
        "  for i in range(qnt):\n",
        "    preco = float(input(f\"Digite o preço do item {i+1}: \"))\n",
        "    total += preco\n",
        "  return total"
      ]
    },
    {
      "cell_type": "code",
      "source": [
        "calcular_total_compra()"
      ],
      "metadata": {
        "colab": {
          "base_uri": "https://localhost:8080/"
        },
        "id": "xTVtFqg-1Zss",
        "outputId": "c75b7bc2-c815-43b0-a4fa-cd08578c7113"
      },
      "execution_count": 13,
      "outputs": [
        {
          "name": "stdout",
          "output_type": "stream",
          "text": [
            "Quantos itens você comprou? 6\n",
            "Digite o preço do item 1: 5\n",
            "Digite o preço do item 2: 2\n",
            "Digite o preço do item 3: 2\n",
            "Digite o preço do item 4: 2\n",
            "Digite o preço do item 5: 2\n",
            "Digite o preço do item 6: 3\n"
          ]
        },
        {
          "output_type": "execute_result",
          "data": {
            "text/plain": [
              "16.0"
            ]
          },
          "metadata": {},
          "execution_count": 13
        }
      ]
    },
    {
      "cell_type": "markdown",
      "source": [
        "2) Função Sem parâmetro e com retorno\n",
        "\n",
        "Você está organizando uma eleição fictícia com três candidatos. Crie uma função chamada realizar_votacao que:\n",
        "\n",
        "Solicite ao usuário que vote em um dos três candidatos, identificados por números (1, 2 ou 3).\n",
        "Permita que a votação continue até que o usuário digite 0 para encerrar.\n",
        "Ao final, exiba o número total de votos para cada candidato.\n",
        "A função não deve receber parâmetros nem retornar valores; apenas realizar a votação e exibir os resultados no final.\n",
        "\n",
        "Vote no seu candidato:\n",
        "1 - Candidato A\n",
        "2 - Candidato B\n",
        "3 - Candidato C\n",
        "Digite 0 para encerrar.\n",
        "Seu voto: 1\n",
        "Seu voto: 3\n",
        "Seu voto: 2\n",
        "Seu voto: 3\n",
        "Seu voto: 0\n",
        "\n",
        "Resultado da votação:\n",
        "Candidato A: 1 voto(s)\n",
        "Candidato B: 1 voto(s)\n",
        "Candidato C: 2 voto(s)"
      ],
      "metadata": {
        "id": "SAD4WQay2VZ3"
      }
    },
    {
      "cell_type": "code",
      "source": [
        "def realizar_votacao():\n",
        "  a = 0\n",
        "  b = 0\n",
        "  c = 0\n",
        "  while True:\n",
        "    voto = int(input(\"Vote no seu candidato:\\n1 - Candidato A\\n2 - Candidato B\\n3 - Candidato C\\nDigite 0 para encerrar.\\nSeu voto: \"))\n",
        "    if voto == 1:\n",
        "      a += 1\n",
        "    elif voto == 2:\n",
        "      b += 1\n",
        "    elif voto == 3:\n",
        "      c += 1\n",
        "    elif voto == 0:\n",
        "      break\n",
        "    else:\n",
        "      print(\"Opção inválida. Tente novamente.\")\n",
        "  print(f\"Resultado da votação:\\nCandidato A: \", a ,\"voto(s)\\nCandidato B:\", b ,\"voto(s)\\nCandidato C:\", c ,\"voto(s)\")"
      ],
      "metadata": {
        "id": "pn7SQfN82eqX"
      },
      "execution_count": 31,
      "outputs": []
    },
    {
      "cell_type": "code",
      "source": [
        "realizar_votacao()"
      ],
      "metadata": {
        "colab": {
          "base_uri": "https://localhost:8080/"
        },
        "id": "idHADpbL3c1E",
        "outputId": "d9df0871-3c85-449f-cfc8-5f315068e18d"
      },
      "execution_count": 33,
      "outputs": [
        {
          "output_type": "stream",
          "name": "stdout",
          "text": [
            "Vote no seu candidato:\n",
            "1 - Candidato A\n",
            "2 - Candidato B\n",
            "3 - Candidato C\n",
            "Digite 0 para encerrar.\n",
            "Seu voto: 3\n",
            "Vote no seu candidato:\n",
            "1 - Candidato A\n",
            "2 - Candidato B\n",
            "3 - Candidato C\n",
            "Digite 0 para encerrar.\n",
            "Seu voto: 2\n",
            "Vote no seu candidato:\n",
            "1 - Candidato A\n",
            "2 - Candidato B\n",
            "3 - Candidato C\n",
            "Digite 0 para encerrar.\n",
            "Seu voto: 7\n",
            "Opção inválida. Tente novamente.\n",
            "Vote no seu candidato:\n",
            "1 - Candidato A\n",
            "2 - Candidato B\n",
            "3 - Candidato C\n",
            "Digite 0 para encerrar.\n",
            "Seu voto: 0\n",
            "Resultado da votação:\n",
            "Candidato A:  0 voto(s)\n",
            "Candidato B: 1 voto(s)\n",
            "Candidato C: 1 voto(s)\n"
          ]
        }
      ]
    },
    {
      "cell_type": "code",
      "source": [],
      "metadata": {
        "id": "VQpqLiTn4fmi"
      },
      "execution_count": null,
      "outputs": []
    }
  ]
}